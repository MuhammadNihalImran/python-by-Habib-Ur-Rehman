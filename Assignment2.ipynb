{
 "cells": [
  {
   "cell_type": "markdown",
   "id": "cbbe639b-b6b4-48c6-9d4d-e8e9bf2b13eb",
   "metadata": {},
   "source": [
    "1. Write a program that prompts the user to input a number and display if the number\n",
    "is even or odd."
   ]
  },
  {
   "cell_type": "code",
   "execution_count": 2,
   "id": "bcda0efa-30a6-490f-86c3-866ace68db1a",
   "metadata": {},
   "outputs": [
    {
     "name": "stdin",
     "output_type": "stream",
     "text": [
      "Enter your number:  7\n"
     ]
    },
    {
     "name": "stdout",
     "output_type": "stream",
     "text": [
      "7 is odd number\n"
     ]
    }
   ],
   "source": [
    "# type here code \n",
    "num = int(input(\"Enter your number: \"))\n",
    "if num%2 == 2:\n",
    "    print(f\"{num} is even number\")\n",
    "else:\n",
    "     print(f\"{num} is odd number\")"
   ]
  },
  {
   "cell_type": "markdown",
   "id": "395fd487-9a92-410b-b846-a35ffbe04feb",
   "metadata": {},
   "source": [
    "2. Write a Python program that takes an age as input and determines whether a person\n",
    "is eligible to vote. If the age is 18 or above, print \"You are eligible to vote.\" Otherwise,\n",
    "print \"You are not eligible to vote yet.\"."
   ]
  },
  {
   "cell_type": "code",
   "execution_count": 3,
   "id": "8fedd450-f2da-4a33-93e0-e1f3862c5198",
   "metadata": {},
   "outputs": [
    {
     "name": "stdin",
     "output_type": "stream",
     "text": [
      "Enter you're age:  17\n"
     ]
    },
    {
     "name": "stdout",
     "output_type": "stream",
     "text": [
      "you are not eligible to vote\n"
     ]
    }
   ],
   "source": [
    "# type here code \n",
    "age = int(input(\"Enter you're age: \"))\n",
    "if age >= 18:\n",
    "    print(\"you are eligible to vote\")\n",
    "else:\n",
    "    print(\"you are not eligible to vote\")"
   ]
  },
  {
   "cell_type": "markdown",
   "id": "7c1408e4-7221-4d09-a17b-ddb7a7c90206",
   "metadata": {},
   "source": [
    "3. Write a program that prompts the user to input two integers and outputs the largest."
   ]
  },
  {
   "cell_type": "code",
   "execution_count": 5,
   "id": "4baa69da-07b5-4635-8cd8-7cc1a7fb6a29",
   "metadata": {},
   "outputs": [
    {
     "name": "stdin",
     "output_type": "stream",
     "text": [
      "Enter first number:  2\n",
      "Enter second number:  3\n"
     ]
    },
    {
     "name": "stdout",
     "output_type": "stream",
     "text": [
      "3 is larger than 2\n"
     ]
    }
   ],
   "source": [
    "#type here code \n",
    "a = int(input(\"Enter first number: \"))\n",
    "b = int(input(\"Enter second number: \"))\n",
    "if a > b:\n",
    "    print(f\"{a} is larger than {b}\")\n",
    "else:\n",
    "    print(f\"{b} is larger than {a}\")"
   ]
  },
  {
   "cell_type": "markdown",
   "id": "ab08f8f2-b409-4181-9fe2-5dec091704a4",
   "metadata": {},
   "source": [
    "4. Write a program that prompts the user to enter a number and determines whether it\n",
    "is positive, negative, or zero. The program should print \"Positive\" if the number is\n",
    "greater than 0, \"Negative\" if the number is less than 0, and \"Zero\" if the number is 0."
   ]
  },
  {
   "cell_type": "code",
   "execution_count": 11,
   "id": "8646d0cb-84c1-4e81-9f50-c744410025d9",
   "metadata": {},
   "outputs": [
    {
     "name": "stdin",
     "output_type": "stream",
     "text": [
      "Enter the number:  -1\n"
     ]
    },
    {
     "name": "stdout",
     "output_type": "stream",
     "text": [
      "-1 is negative\n"
     ]
    }
   ],
   "source": [
    "#type here code\n",
    "num = int(input(\"Enter the number: \"))\n",
    "if num == 0:\n",
    "    print(f\"{num} is zero\")\n",
    "elif num > 0:\n",
    "     print(f\"{num} is positive\")\n",
    "else:\n",
    "    print(f\"{num} is negative\")"
   ]
  },
  {
   "cell_type": "markdown",
   "id": "58f86ad5-bb98-422d-ab80-0cdb1add13cb",
   "metadata": {},
   "source": [
    "5. Write a program that prompts the user to enter their age and prints the\n",
    "corresponding age group. The program should use the following age groups:\n",
    "0-12: Child\n",
    "13-19: Teenager\n",
    "20-59: Adult\n",
    "60 and above: Senior Citizen"
   ]
  },
  {
   "cell_type": "code",
   "execution_count": 27,
   "id": "b3bd651e-4450-4455-a2a9-8a4e0d0c6e8c",
   "metadata": {},
   "outputs": [
    {
     "name": "stdin",
     "output_type": "stream",
     "text": [
      "Enter your age:  13\n"
     ]
    },
    {
     "name": "stdout",
     "output_type": "stream",
     "text": [
      "Teenager\n"
     ]
    }
   ],
   "source": [
    "#type here code \n",
    "age = int(input(\"Enter your age: \"))\n",
    "if age > 0 and age <= 12:\n",
    "    print(\"Child\")\n",
    "elif age > 12 and age <= 19:\n",
    "    print(\"Teenager\")\n",
    "elif age > 19 and  age <= 59:\n",
    "    print(\"Adult\")\n",
    "elif age > 59:\n",
    "    print(\"Senior Citizen\")\n",
    "else:\n",
    "    print(\"must enter number in positive\")"
   ]
  },
  {
   "cell_type": "markdown",
   "id": "a19409ed-05f5-4a95-b04b-3d2f14c2f5f1",
   "metadata": {},
   "source": [
    "6. Write a program that prompts the user to input a number from 1 to 7. The program\n",
    "should display the corresponding day for the given number. For example, if the user\n",
    "types 1, the output should be Sunday. If the user types 7, the output should be\n",
    "Saturday. If the number is not between 1 to 7 user should get error message as shown\n",
    "in sample output."
   ]
  },
  {
   "cell_type": "code",
   "execution_count": 19,
   "id": "3b71583d-1180-48d1-973c-a1253a549be6",
   "metadata": {},
   "outputs": [
    {
     "name": "stdin",
     "output_type": "stream",
     "text": [
      "Enter number between in 1 to 7:  5\n"
     ]
    },
    {
     "name": "stdout",
     "output_type": "stream",
     "text": [
      "Thuesday\n"
     ]
    }
   ],
   "source": [
    "#type here code\n",
    "\n",
    "num = int(input(\"Enter number between in 1 to 7: \"))\n",
    "match num:\n",
    "    case 1:\n",
    "        result = \"Sunday\"\n",
    "    case 2:\n",
    "        result = \"Monday\"\n",
    "    case 3:\n",
    "        result = \"Tuesday\"\n",
    "    case 4:\n",
    "        result = \"Wednesday\"        \n",
    "    case 5:\n",
    "        result = \"Thuesday\"        \n",
    "    case 6:\n",
    "        result = \"Friday\"        \n",
    "    case 7:\n",
    "        result = \"Saturday\"        \n",
    "\n",
    "print(result)"
   ]
  },
  {
   "cell_type": "markdown",
   "id": "3e01a874-3c24-4d45-883d-eab748a6b4f7",
   "metadata": {},
   "source": [
    "7. Write a program that prompts the user to enter their weight (in kilograms) and height\n",
    "(in meters). The program should calculate the Body Mass Index (BMI) using the formula:\n",
    "BMI = weight / (height * height). The program should then classify the BMI into one of\n",
    "the following categories:"
   ]
  },
  {
   "cell_type": "markdown",
   "id": "8f28f233-32b5-4acd-ac0f-6284629e34a5",
   "metadata": {},
   "source": [
    "less than 18.5 - Underweight\n",
    "BMI between 18.5 and 24.9 - Normal weight\n",
    "BMI between 25 and 29.9 - Overweight\n",
    "BMI 30 or greater - Obesity"
   ]
  },
  {
   "cell_type": "code",
   "execution_count": 33,
   "id": "844f39a8-afd4-4a04-8610-f59540812dc1",
   "metadata": {},
   "outputs": [
    {
     "name": "stdin",
     "output_type": "stream",
     "text": [
      "Enter your weight in kilogram:  60\n",
      "Enter your height in meter:  57\n"
     ]
    },
    {
     "name": "stdout",
     "output_type": "stream",
     "text": [
      "you are underweight\n"
     ]
    }
   ],
   "source": [
    "#type here code\n",
    "weight = int(input(\"Enter your weight in kilogram: \"))\n",
    "height = int(input(\"Enter your height in meter: \"))\n",
    "BMI = weight / (height * height)\n",
    "if BMI < 18.5:\n",
    "    print(\"you are underweight\")\n",
    "elif BMI >= 18.5 and BMI <= 24.9:\n",
    "    print(\"you are Normal weight\")\n",
    "elif BMI >= 25 and BMI <= 29.9:\n",
    "    print(\"Overweight\")\n",
    "elif BMI >= 30:\n",
    "    print(\"Obesity\")\n",
    "else:\n",
    "    print(\"something went wrong\")\n",
    "    "
   ]
  },
  {
   "cell_type": "markdown",
   "id": "51334a70-51b8-4cf4-9e44-7aae62e6d20c",
   "metadata": {},
   "source": [
    "8. The marks obtained by a student in 3 different subjects are input by the user. Your\n",
    "program should calculate the average of subjects and display the grade. The student\n",
    "gets a grade as per the following rules:"
   ]
  },
  {
   "cell_type": "markdown",
   "id": "8e0d31b9-075c-4db8-ba3b-69ce04eac991",
   "metadata": {},
   "source": [
    "Average Grade\n",
    "90-100 A\n",
    "80-89 B\n",
    "70-79 C\n",
    "60-69 D\n",
    "0-59 F"
   ]
  },
  {
   "cell_type": "code",
   "execution_count": 35,
   "id": "66009997-ba8e-4a7a-a863-2052488746fe",
   "metadata": {},
   "outputs": [
    {
     "name": "stdin",
     "output_type": "stream",
     "text": [
      "Enter first subject nummber:  89\n",
      "Enter second subject nummber:  89\n",
      "Enter third subject nummber:  50\n"
     ]
    },
    {
     "name": "stdout",
     "output_type": "stream",
     "text": [
      "your grade is C\n"
     ]
    }
   ],
   "source": [
    "#type here code \n",
    "sub1 = int(input(\"Enter first subject nummber: \"))\n",
    "sub2 = int(input(\"Enter second subject nummber: \"))\n",
    "sub3 = int(input(\"Enter third subject nummber: \"))\n",
    "avg_grade = (sub1+sub2+sub3)/3\n",
    "\n",
    "if avg_grade >= 90 and avg_grade <=100:\n",
    "    print(\"your grade is A\")\n",
    "elif avg_grade >= 80 and avg_grade <= 89:\n",
    "    print(\"your grade is B\")\n",
    "elif avg_grade >= 70 and avg_grade < 79:\n",
    "    print(\"your grade is C\")\n",
    "elif avg_grade >= 60 and avg_grade <= 69:\n",
    "    print(\"your grade is D\")\n",
    "elif avg_grade >= 0 and avg_grade <= 59:\n",
    "    print(\"your grade is F\")\n",
    "else:\n",
    "    print(\"must enter your number in positive\")"
   ]
  },
  {
   "cell_type": "markdown",
   "id": "ed9a95a4-80a0-4d05-8543-a47e044c2734",
   "metadata": {},
   "source": [
    "9. The roots of the quadratic equation ax2 + bx + c = 0, a ≠ 0 are given by the following\n",
    "formula:"
   ]
  },
  {
   "cell_type": "markdown",
   "id": "8df65444-2af8-4795-82ee-352e0665a1b2",
   "metadata": {},
   "source": [
    "In this formula, the term b2 - 4ac is called the discriminant. If b2 - 4ac = 0, then the\n",
    "equation has two equal roots.\n",
    "If b2 - 4ac > 0, the equation has two real roots. If b2 - 4ac < 0, the equation has two\n",
    "complex roots."
   ]
  },
  {
   "cell_type": "markdown",
   "id": "f292df94-7f1a-4690-bf8d-fd8cbe4ac538",
   "metadata": {},
   "source": [
    "Write a program that prompts the user to input the value of a (the coefficient of x2), b\n",
    "(the coefficient of x), and c (the constant term) and outputs the roots of the quadratic\n",
    "equation."
   ]
  },
  {
   "cell_type": "code",
   "execution_count": 11,
   "id": "26aec707-3456-48d2-9192-0f6923158669",
   "metadata": {},
   "outputs": [
    {
     "name": "stdin",
     "output_type": "stream",
     "text": [
      "Enter the coefficient of x2:  2\n",
      "Enter the coefficient of x:  5\n",
      "Enter the constant term:  2\n"
     ]
    },
    {
     "name": "stdout",
     "output_type": "stream",
     "text": [
      "result_1: -0.5 , result_2: -2.0\n"
     ]
    }
   ],
   "source": [
    "##### type here code \n",
    "import math\n",
    "\n",
    "a = int(input(\"Enter the coefficient of x2: \"))\n",
    "b = int(input(\"Enter the coefficient of x: \"))\n",
    "c = int(input(\"Enter the constant term: \"))\n",
    "num = (b**2)-4*a*c\n",
    "if num>0:  \n",
    "    squ_root = math.sqrt(num)\n",
    "    result_1 =  (-b+squ_root)/ (2*a)\n",
    "    result_2 =  (-b-squ_root)/ (2*a)\n",
    "    print(f\"result_1: {result_1} , result_2: {result_2}\")    \n",
    "else:\n",
    "    print(\"sauare root not answer in negative\")\n"
   ]
  },
  {
   "cell_type": "markdown",
   "id": "dc9cc6dc-39ea-4a17-afad-a832f15f2d0b",
   "metadata": {},
   "source": [
    "10. Write a program that prompts the user to enter three numbers and sorts them in\n",
    "ascending order. The program should print the sorted numbers."
   ]
  },
  {
   "cell_type": "code",
   "execution_count": 17,
   "id": "eb53d559-abaf-4311-aa7f-b0a33d78271c",
   "metadata": {},
   "outputs": [
    {
     "name": "stdin",
     "output_type": "stream",
     "text": [
      "Enter first number:  3\n",
      "Enter second number:  2\n",
      "Enter third number:  1\n"
     ]
    },
    {
     "name": "stdout",
     "output_type": "stream",
     "text": [
      "1 2 3\n"
     ]
    }
   ],
   "source": [
    "#type here  code \n",
    "# ABC, ACB, BAC, BCA, CAB, and CBA. \n",
    "\n",
    "a = int(input(\"Enter first number: \"))\n",
    "b = int(input(\"Enter second number: \"))\n",
    "c = int(input(\"Enter third number: \"))\n",
    "\n",
    "if a <= b and a <= c:  \n",
    "    if b <= c:\n",
    "        print(a, b, c)\n",
    "    else:\n",
    "        print(a, c, b)\n",
    "elif b <= a and b <= c: \n",
    "    if a <= c:\n",
    "        print(b, a, c)\n",
    "    else:\n",
    "        print(b, c, a)\n",
    "else: \n",
    "    if a <= b:\n",
    "        print(c, a, b)\n",
    "    else:\n",
    "        print(c, b, a)\n",
    "\n",
    "\n",
    "    "
   ]
  },
  {
   "cell_type": "markdown",
   "id": "8505f4ed-daf6-4397-a787-be31b3b06d17",
   "metadata": {},
   "source": [
    "11. Write a program that prompts the user to input three integers and outputs the\n",
    "largest."
   ]
  },
  {
   "cell_type": "code",
   "execution_count": 31,
   "id": "b49dd74d-ad4d-45e3-8eaa-b79dcc6b9d59",
   "metadata": {},
   "outputs": [
    {
     "name": "stdin",
     "output_type": "stream",
     "text": [
      "Enter first number:  1\n",
      "Enter second number:  1\n",
      "Enter third number:  1\n"
     ]
    },
    {
     "name": "stdout",
     "output_type": "stream",
     "text": [
      "All three numbers are equal!\n"
     ]
    }
   ],
   "source": [
    "#type here code\n",
    "\n",
    "a = int(input(\"Enter first number: \"))\n",
    "b = int(input(\"Enter second number: \"))\n",
    "c = int(input(\"Enter third number: \"))\n",
    "\n",
    "if a > b and a > c:\n",
    "    print(f\"{a} is the largest among {b} and {c}\")\n",
    "elif b > a and b > c:\n",
    "    print(f\"{b} is the largest among {a} and {c}\")\n",
    "elif c > a and c > b:\n",
    "    print(f\"{c} is the largest among {a} and {b}\")\n",
    "elif a == b == c:  \n",
    "    print(\"All three numbers are equal!\")\n",
    "else:\n",
    "    print(\"Two or more numbers are the same, but not all three.\")\n",
    "\n",
    "    "
   ]
  },
  {
   "cell_type": "markdown",
   "id": "07a68448-e02a-41a9-bb5c-5f7b243667ed",
   "metadata": {},
   "source": [
    "12. Write a program that prompts the user to input a character and determine the\n",
    "character is vowel or consonant."
   ]
  },
  {
   "cell_type": "code",
   "execution_count": 35,
   "id": "5aadd15a-2a26-4625-a84b-ac8e4bc5578c",
   "metadata": {},
   "outputs": [
    {
     "name": "stdin",
     "output_type": "stream",
     "text": [
      "enter one charcter:  b\n"
     ]
    },
    {
     "name": "stdout",
     "output_type": "stream",
     "text": [
      "consonant\n"
     ]
    }
   ],
   "source": [
    "#type here code  \n",
    "char = input(\"enter one charcter: \")\n",
    "match char:\n",
    "    case \"a\" | \"e\" | \"i\" | \"o\" | \"u\":\n",
    "        print(\"vowel\")\n",
    "    case _:\n",
    "        print(\"consonant\")\n",
    "    "
   ]
  },
  {
   "cell_type": "markdown",
   "id": "5749c609-6e84-4531-9f49-94ad049aa37a",
   "metadata": {},
   "source": [
    "13. Write a program that prompts the user to input a year and determine whether the\n",
    "year is a leap year or not.\n",
    "Leap Years are any year that can be evenly divided by 4. A year that is evenly divisible by\n",
    "100 is a leap year only if it is also evenly divisible by 400. Example:"
   ]
  },
  {
   "cell_type": "markdown",
   "id": "8f1345bf-f374-4574-8b9b-55df24c4a470",
   "metadata": {},
   "source": [
    "1992 Leap Year\n",
    "2000 Leap Year\n",
    "1900 NOT a Leap Year\n",
    "1995 NOT a Leap Year"
   ]
  },
  {
   "cell_type": "code",
   "execution_count": 37,
   "id": "186992e3-e5d8-4892-8547-87203c73939b",
   "metadata": {},
   "outputs": [],
   "source": [
    "#type here code \n",
    "\n",
    "year = int(input(\"Enter a year: \"))\n",
    "if (year % 4 == 0 and year % 100 != 0) or (year % 400 == 0):\n",
    "    print(f\"{year} is a leap year.\")\n",
    "else:\n",
    "    print(f\"{year} is not a leap year.\")"
   ]
  },
  {
   "cell_type": "markdown",
   "id": "132f974f-0ab1-49f3-b91f-c68647029e0a",
   "metadata": {},
   "source": [
    "14. Write a program that prompts the user to input number of calls and calculate the\n",
    "monthly telephone bills as per the following rule:"
   ]
  },
  {
   "cell_type": "markdown",
   "id": "d9523449-18f0-4ca1-8c33-a39a8dc57573",
   "metadata": {},
   "source": [
    "Minimum Rs. 200 for up to 100 calls.\n",
    "Plus Rs. 0.60 per call for next 50 calls.\n",
    "Plus Rs. 0.50 per call for next 50 calls.\n",
    "Plus Rs. 0.40 per call for any call beyond 200 calls."
   ]
  },
  {
   "cell_type": "code",
   "execution_count": null,
   "id": "39b114c0-9bef-4387-b0ad-1ba3ac0a495d",
   "metadata": {},
   "outputs": [],
   "source": [
    "#type here code\n",
    "calls = int(input(\"Enter your calls and get bill: \"))\n",
    "if calls <= 100:\n",
    "    print(f\"50 {calls*200}\")\n",
    "elif calls <= 150:\n",
    "    print(f\"150 {calls*0.60}\")\n",
    "elif calls <= 200:\n",
    "    print(f\"175 {calls*0.50}\")\n",
    "else:\n",
    "    print(f\"above 200 {calls*0.40}\")"
   ]
  },
  {
   "cell_type": "code",
   "execution_count": null,
   "id": "ca211739-b931-42ea-b9e6-713f28a554b2",
   "metadata": {},
   "outputs": [],
   "source": []
  }
 ],
 "metadata": {
  "kernelspec": {
   "display_name": "Python 3 (ipykernel)",
   "language": "python",
   "name": "python3"
  },
  "language_info": {
   "codemirror_mode": {
    "name": "ipython",
    "version": 3
   },
   "file_extension": ".py",
   "mimetype": "text/x-python",
   "name": "python",
   "nbconvert_exporter": "python",
   "pygments_lexer": "ipython3",
   "version": "3.12.7"
  }
 },
 "nbformat": 4,
 "nbformat_minor": 5
}

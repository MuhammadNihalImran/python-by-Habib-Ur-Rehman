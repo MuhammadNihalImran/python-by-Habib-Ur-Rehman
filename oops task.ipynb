{
 "cells": [
  {
   "cell_type": "markdown",
   "id": "fa937aaf-2617-44d0-a4a1-cd458e3267c5",
   "metadata": {},
   "source": [
    "1. Write a Python program to create a class called \"Person\" with properties for\n",
    "name, age and country. Include a method to display the person's details. Create\n",
    "two instances of the 'Person' class and display their details."
   ]
  },
  {
   "cell_type": "code",
   "execution_count": 18,
   "id": "06cee9f3-481c-46b8-a8c6-8546cdf463c0",
   "metadata": {},
   "outputs": [],
   "source": [
    "class Person():\n",
    "    def __init__(self,name,age,country):\n",
    "        self.name = name\n",
    "        self.age = age\n",
    "        self.country = country\n",
    "    def detail(self):\n",
    "        print(f\"name: {self.name}\\nage: {self.age}\\ncountry: {self.country}\")"
   ]
  },
  {
   "cell_type": "code",
   "execution_count": 10,
   "id": "83461c6b-de69-4a0e-9ef9-a936e8d15f13",
   "metadata": {},
   "outputs": [
    {
     "name": "stdout",
     "output_type": "stream",
     "text": [
      "name is Huzifa\n",
      "age is 19\n",
      "country isPakistan\n"
     ]
    }
   ],
   "source": [
    "p1 = Person(\"Huzifa\",19,\"Pakistan\")\n",
    "p2 = Person(\"Rahul\",18,\"India\")\n",
    "p1.deatisl()"
   ]
  },
  {
   "cell_type": "code",
   "execution_count": 12,
   "id": "564add2e-a80a-42cb-916a-072b275364b6",
   "metadata": {},
   "outputs": [
    {
     "name": "stdout",
     "output_type": "stream",
     "text": [
      "name is Rahul\n",
      "age is 18\n",
      "country isIndia\n"
     ]
    }
   ],
   "source": [
    "p2.detail()"
   ]
  },
  {
   "cell_type": "markdown",
   "id": "5fac3d21-afd7-4155-8a30-d729f6e7346d",
   "metadata": {},
   "source": [
    "2. Write a Python program to create a class called 'Rectangle' with properties for\n",
    "width and height. Include two methods to calculate rectangle area and perimeter.\n",
    "Create an instance of the 'Rectangle' class and calculate its area and perimeter."
   ]
  },
  {
   "cell_type": "code",
   "execution_count": 15,
   "id": "b7f10177-b185-4938-9d26-232dc0b1200b",
   "metadata": {},
   "outputs": [],
   "source": [
    "class Rectangle():\n",
    "    def __init__(self,width,height):\n",
    "        self.width = width\n",
    "        self.height = height\n",
    "    def cal_area(self):\n",
    "        return self.height*self.width\n",
    "    def cal_perimeter(self):\n",
    "        return (self.width+self.height)*2\n",
    "        "
   ]
  },
  {
   "cell_type": "code",
   "execution_count": 19,
   "id": "8e502ac4-7dba-4e15-957f-b033debbc44a",
   "metadata": {},
   "outputs": [
    {
     "data": {
      "text/plain": [
       "84"
      ]
     },
     "execution_count": 19,
     "metadata": {},
     "output_type": "execute_result"
    }
   ],
   "source": [
    "R1 = Rectangle(14,6)\n",
    "R1.cal_area()"
   ]
  },
  {
   "cell_type": "code",
   "execution_count": 21,
   "id": "52cf66e3-b771-40ff-85ff-f6eb11b8a164",
   "metadata": {},
   "outputs": [
    {
     "data": {
      "text/plain": [
       "40"
      ]
     },
     "execution_count": 21,
     "metadata": {},
     "output_type": "execute_result"
    }
   ],
   "source": [
    "R1.cal_perimeter()"
   ]
  },
  {
   "cell_type": "markdown",
   "id": "d8417312-eec7-4325-8523-e11ba7a6bc43",
   "metadata": {},
   "source": [
    "3. Write a Python program that creates a class called 'Vehicle' with properties for\n",
    "make, model, and year. Include a method to display vehicle details. Create a\n",
    "subclass called 'Car' that inherits from the 'Vehicle' class and includes an\n",
    "additional property for the number of doors. Override the display method to\n",
    "include the number of doors."
   ]
  },
  {
   "cell_type": "code",
   "execution_count": 47,
   "id": "2fe6adcf-ca37-409f-a4e9-c08221dbd2a4",
   "metadata": {},
   "outputs": [],
   "source": [
    "class Vehicle():\n",
    "    def __init__(self,make,model,year):\n",
    "        self.make = make\n",
    "        self.model = model\n",
    "        self.year = year\n",
    "    def display_details(self):\n",
    "        print(f\"make: {self.make}\\nmodel: {self.model}\\nyear: {self.year}\")\n",
    "\n",
    "class Car(Vehicle):\n",
    "     def __init__(self, make, model, year,number_of_doors):\n",
    "        super().__init__(make, model, year)\n",
    "        self.number_of_doors = number_of_doors\n",
    "     def display_details(self):\n",
    "         super().display_details()\n",
    "         print(f\"Number of Doors: {self.number_of_doors}\")\n",
    "    "
   ]
  },
  {
   "cell_type": "code",
   "execution_count": 49,
   "id": "66c81e2c-80ba-431f-959b-f2a9095f3540",
   "metadata": {},
   "outputs": [
    {
     "name": "stdout",
     "output_type": "stream",
     "text": [
      "make: Tesla\n",
      "model: Model S\n",
      "year: 2022\n",
      "Number of Doors: 4\n"
     ]
    }
   ],
   "source": [
    "car = Car(\"Tesla\", \"Model S\", 2022, 4)\n",
    "car.display_details()"
   ]
  },
  {
   "cell_type": "markdown",
   "id": "e55ac89e-eb35-483f-882e-8df84e4008fc",
   "metadata": {},
   "source": [
    "4. Write a Python program that creates a class called \"BankAccount\" with\n",
    "properties for account number and balance. Include methods to deposit and\n",
    "withdraw money from the account. Create some instances of the \"BankAccount\"\n",
    "class, deposit some money, and withdraw a portion of it."
   ]
  },
  {
   "cell_type": "code",
   "execution_count": 36,
   "id": "57b0c36e-c5d9-4e6d-b215-9e78d5a210ad",
   "metadata": {},
   "outputs": [],
   "source": [
    "class BankAccount():\n",
    "    def __init__(self,account_number,balance):\n",
    "        self.account_number = account_number\n",
    "        self.balance = balance\n",
    "    def deposit(self,account_number,amount):\n",
    "        self.balance += amount\n",
    "        print(f\"Deposited {amount}. New balance: {self.balance}\")\n",
    "    def withdraw(self,account_number,amount):\n",
    "        if self.balance >= amount:\n",
    "            self.balance -= amount\n",
    "            print(f\"Withdrew {amount}. Remaining balance: {self.balance}\")\n",
    "        else:\n",
    "            print(\"Insufficient balance.\")\n",
    "            \n",
    "    def display_balance(self):\n",
    "         print(f\"Account Number: {self.account_number} | Balance: {self.balance}\")\n",
    "        "
   ]
  },
  {
   "cell_type": "code",
   "execution_count": 38,
   "id": "2892ff62-bad0-4b23-81be-67961e15de34",
   "metadata": {},
   "outputs": [
    {
     "name": "stdout",
     "output_type": "stream",
     "text": [
      "Deposited 1000. New balance: 3000\n"
     ]
    }
   ],
   "source": [
    "account = BankAccount(\"12345\",2000)\n",
    "account.deposit(\"12345\",1000)"
   ]
  },
  {
   "cell_type": "code",
   "execution_count": null,
   "id": "17450548-a5da-4106-bfbd-c3aed9033018",
   "metadata": {},
   "outputs": [],
   "source": [
    "account.withdraw(\"1234\",2000)"
   ]
  },
  {
   "cell_type": "code",
   "execution_count": 113,
   "id": "8bd87e81-0234-4a06-8623-017d47fc41fe",
   "metadata": {},
   "outputs": [
    {
     "data": {
      "text/plain": [
       "2500"
      ]
     },
     "execution_count": 113,
     "metadata": {},
     "output_type": "execute_result"
    }
   ],
   "source": [
    "account.withdraw(\"12345\",500)"
   ]
  },
  {
   "cell_type": "markdown",
   "id": "d12acc2d-1a74-4878-bd0b-c9c71c512b0b",
   "metadata": {},
   "source": [
    "5. Write a Python program that creates a class called 'Shape' with a method to\n",
    "calculate the area. Create two subclasses, 'Circle' and 'Triangle', that inherit from\n",
    "the 'Shape' class and override the area calculation method. Create an instance of\n",
    "the 'Circle' class and calculate its area. Similarly, do the same for the 'Triangle'\n",
    "class."
   ]
  },
  {
   "cell_type": "code",
   "execution_count": 125,
   "id": "bef992e8-3579-42a0-91ec-e9c3172f233d",
   "metadata": {},
   "outputs": [],
   "source": [
    "import math\n",
    "class Shape():\n",
    "    def calculate_area(self):\n",
    "        return 0\n",
    "\n",
    "class Circle(Shape):\n",
    "    def __init__(self,radius):\n",
    "        self.radius= radius\n",
    "    def calculate_area(self):\n",
    "        return math.pi * self.radius ** 2 \n",
    "        \n",
    "class Triangle(Shape):\n",
    "    def __init__(self, base, height):\n",
    "        self.base = base\n",
    "        self.height = height\n",
    "    def calculate_area(self):\n",
    "        return 0.5 * self.base * self.height\n"
   ]
  },
  {
   "cell_type": "code",
   "execution_count": 127,
   "id": "bff22cfd-a1fa-49df-862e-417e660d5be4",
   "metadata": {},
   "outputs": [
    {
     "name": "stdout",
     "output_type": "stream",
     "text": [
      "Area of Circle: 153.94\n"
     ]
    }
   ],
   "source": [
    "circle = Circle(7)\n",
    "print(f\"Area of Circle: {circle.calculate_area():.2f}\")"
   ]
  },
  {
   "cell_type": "code",
   "execution_count": 129,
   "id": "8c960884-4160-48fa-829e-df655b25c88f",
   "metadata": {},
   "outputs": [
    {
     "name": "stdout",
     "output_type": "stream",
     "text": [
      "Area of Triangle: 25.00\n"
     ]
    }
   ],
   "source": [
    "triangle = Triangle(10, 5)\n",
    "print(f\"Area of Triangle: {triangle.calculate_area():.2f}\")"
   ]
  },
  {
   "cell_type": "markdown",
   "id": "2325b837-0f2b-4b70-a590-cfd42f61c322",
   "metadata": {},
   "source": [
    "6. Write a Python program that creates a class called 'Employee' with properties\n",
    "for name and salary. Include a method to calculate annual salary. Create a\n",
    "subclass called 'Manager' that inherits from the 'Employee' class and adds an\n",
    "additional property for department. Override the annual salary calculation method\n",
    "to include bonuses for managers. Create two instances of the 'Manager' class\n",
    "and calculate their annual salary."
   ]
  },
  {
   "cell_type": "code",
   "execution_count": 7,
   "id": "37a2467c-89aa-4367-a16b-3eb795d4cd09",
   "metadata": {},
   "outputs": [],
   "source": [
    "class Employee():\n",
    "    def __init__(self,name,salary):\n",
    "        self.name = name\n",
    "        self.salary = salary\n",
    "    def cal_annual_salary(self):\n",
    "        return 12*self.salary\n",
    "class Manager(Employee):\n",
    "   def __init__(self, name, salary, department, bonuses):\n",
    "        super().__init__(name, salary)\n",
    "        self.department = department\n",
    "        self.bonuses = bonuses\n",
    "    def cal_annual_salary(self):\n",
    "        return (12*self.salary)+self.bonuses"
   ]
  },
  {
   "cell_type": "code",
   "execution_count": 11,
   "id": "fc09a2af-702c-4fd8-a084-4ee78ce8b567",
   "metadata": {},
   "outputs": [
    {
     "data": {
      "text/plain": [
       "12500"
      ]
     },
     "execution_count": 11,
     "metadata": {},
     "output_type": "execute_result"
    }
   ],
   "source": [
    "Manager1 = Manager(\"Amaan\",1000,500)\n",
    "Manager2 = Manager(\"Hayy\",2000,1000)\n",
    "Manager1.cal_annual_salary()"
   ]
  },
  {
   "cell_type": "code",
   "execution_count": 13,
   "id": "7a079d80-a364-4925-aa2e-45582fb8fff6",
   "metadata": {},
   "outputs": [
    {
     "data": {
      "text/plain": [
       "25000"
      ]
     },
     "execution_count": 13,
     "metadata": {},
     "output_type": "execute_result"
    }
   ],
   "source": [
    "Manager2.cal_annual_salary()"
   ]
  },
  {
   "cell_type": "markdown",
   "id": "95220241-8b71-41e6-9d76-84152a5f4ed9",
   "metadata": {},
   "source": [
    "7. Write a Python program that creates a class `Book` with properties for title,\n",
    "author, and publication year. Include a method to display book details. Create a\n",
    "subclass called 'Ebook' that inherits from the 'Book' class and includes an\n",
    "additional property for book price. Override the display method to include the\n",
    "book price. Create an instance of the 'Ebook' class and display its details."
   ]
  },
  {
   "cell_type": "code",
   "execution_count": 22,
   "id": "ea440105-79ab-44ca-afdd-dbd40438e558",
   "metadata": {},
   "outputs": [],
   "source": [
    "class Book():\n",
    "    def __init__(self,title,author,year):\n",
    "        self.title = title\n",
    "        self.author = author\n",
    "        self.year = year\n",
    "    def display_details(self):\n",
    "        print(f\"title: {self.title}\\nauthor: {self.author}\\nyear: {self.year}\")\n",
    "\n",
    "class Ebook(Book):\n",
    "    def __init__(self,title,author,year,price):\n",
    "        super().__init__(title,author,year)\n",
    "        self.price = price\n",
    "    def display_details(self):\n",
    "        super().display_details()\n",
    "        print(f\"price: {self.price}\")"
   ]
  },
  {
   "cell_type": "code",
   "execution_count": 26,
   "id": "4f02804e-43cf-43f3-9d6b-84f801c58736",
   "metadata": {},
   "outputs": [
    {
     "name": "stdout",
     "output_type": "stream",
     "text": [
      "title: python\n",
      "author: Nasim\n",
      "year: 2025\n",
      "price: 2000\n"
     ]
    }
   ],
   "source": [
    "ebook1 = Ebook(\"python\",\"Nasim\",2025,2000)\n",
    "ebook1.display_details()"
   ]
  },
  {
   "cell_type": "markdown",
   "id": "6493b2b7-3191-436d-aebf-a3ffe7672897",
   "metadata": {},
   "source": [
    "8. Write a Python program that creates a class called 'Animal' with properties for\n",
    "species and sound. Include a method to make the animal's sound. Create a\n",
    "subclass called 'Dog' that inherits from the 'Animal' class and adds an additional\n",
    "property for color. Override the make sound method to include the dog's color.\n",
    "Create an instance of the 'Dog' class and make it make its sound."
   ]
  },
  {
   "cell_type": "code",
   "execution_count": 22,
   "id": "7fdd6e66-cc50-4b10-b6db-69b4bf68b7c6",
   "metadata": {},
   "outputs": [],
   "source": [
    "class Animal():\n",
    "    def __init__(self,species,sound):\n",
    "        self.species = species\n",
    "        self.sound = sound\n",
    "    def make_sound(self):\n",
    "         print(f\"The {self.species} says '{self.sound}'\")\n",
    "\n",
    "class Dog(Animal):\n",
    "    def __init__(self,species,sound,color):\n",
    "        super().__init__(species,sound)\n",
    "        self.color = color\n",
    "    def make_sound(self):\n",
    "         print(f\"The {self.color} {self.species} says '{self.sound}'\")\n"
   ]
  },
  {
   "cell_type": "code",
   "execution_count": 24,
   "id": "c34d4b1c-853e-4a0f-bae0-c83304cbfe21",
   "metadata": {},
   "outputs": [
    {
     "name": "stdout",
     "output_type": "stream",
     "text": [
      "The Brown Dog says 'Bark'\n"
     ]
    }
   ],
   "source": [
    "dog = Dog(\"Dog\", \"Bark\", \"Brown\")\n",
    "dog.make_sound()"
   ]
  },
  {
   "cell_type": "markdown",
   "id": "e4e7638f-a127-46a6-b08e-67f1ebfc9203",
   "metadata": {},
   "source": [
    "9. Write a Python program that creates a class called Bank with properties for\n",
    "bank names and branches. Include methods to add a branch, remove a branch,\n",
    "and display all branches. Create an instance of the Bank class and perform\n",
    "operations to add and remove branches."
   ]
  },
  {
   "cell_type": "code",
   "execution_count": 83,
   "id": "d9eff938-6866-4ff1-ab7c-d47776e8120c",
   "metadata": {},
   "outputs": [],
   "source": [
    "class Bank:\n",
    "    def __init__(self, bank_name):\n",
    "        self.bank_name = bank_name\n",
    "        self.branches = []\n",
    "\n",
    "    def add_branch(self, branch):\n",
    "        self.branches.append(branch)\n",
    "        print(f\"Branch '{branch}' added.\")\n",
    "\n",
    "    def remove_branch(self, branch):\n",
    "        if branch in self.branches:\n",
    "            self.branches.remove(branch)\n",
    "            print(f\"Branch '{branch}' removed.\")\n",
    "        else:\n",
    "            print(f\"Branch '{branch}' not found.\")\n",
    "\n",
    "    def display_branches(self):\n",
    "        print(f\"\\nBranches of {self.bank_name}:\")\n",
    "        for branch in self.branches:\n",
    "            print(f\"- {branch}\")\n"
   ]
  },
  {
   "cell_type": "code",
   "execution_count": 87,
   "id": "c50e115f-134c-4449-a5d4-86c40117ecfb",
   "metadata": {},
   "outputs": [
    {
     "name": "stdout",
     "output_type": "stream",
     "text": [
      "Branch 'Mumbai' added.\n",
      "Branch 'Delhi' added.\n",
      "Branch 'Bangalore' added.\n"
     ]
    }
   ],
   "source": [
    "bank = Bank(\"State Bank of Python\")\n",
    "\n",
    "bank.add_branch(\"Mumbai\")\n",
    "bank.add_branch(\"Delhi\")\n",
    "bank.add_branch(\"Bangalore\")"
   ]
  },
  {
   "cell_type": "code",
   "execution_count": 89,
   "id": "9b8b6151-0cff-4933-8964-f384ade8763d",
   "metadata": {},
   "outputs": [
    {
     "name": "stdout",
     "output_type": "stream",
     "text": [
      "\n",
      "Branches of State Bank of Python:\n",
      "- Mumbai\n",
      "- Delhi\n",
      "- Bangalore\n"
     ]
    }
   ],
   "source": [
    "bank.display_branches()"
   ]
  },
  {
   "cell_type": "code",
   "execution_count": 91,
   "id": "0f153607-7d9f-4b1f-b003-6ca802331260",
   "metadata": {},
   "outputs": [
    {
     "name": "stdout",
     "output_type": "stream",
     "text": [
      "Branch 'Delhi' removed.\n",
      "\n",
      "Branches of State Bank of Python:\n",
      "- Mumbai\n",
      "- Bangalore\n"
     ]
    }
   ],
   "source": [
    "bank.remove_branch(\"Delhi\")\n",
    "bank.display_branches()"
   ]
  },
  {
   "cell_type": "markdown",
   "id": "98ddbe3b-ac10-4e28-bfe7-bd1b92957760",
   "metadata": {},
   "source": [
    "10. Write a Python program that creates a class called Product with properties for\n",
    "product ID, name, and price. Include a method to calculate the total price by\n",
    "multiplying the price by the quantity. Create a subclass called\n",
    "PersonalCareProduct that inherits from the Product class and adds an additional\n",
    "property for the warranty period. Override the total price calculation method to\n",
    "include the warranty period. Create an instance of the PersonalCareProduct\n",
    "class and calculate its total price."
   ]
  },
  {
   "cell_type": "code",
   "execution_count": 3,
   "id": "76ae54ec-2785-469c-be50-1c4a161fef51",
   "metadata": {},
   "outputs": [],
   "source": [
    "class Product():\n",
    "    def __init__(self,id,name,price,quantity):\n",
    "        self.id = id\n",
    "        self.name = name\n",
    "        self.price = price\n",
    "        self.quantity = quantity\n",
    "    def cal_total_price(self):\n",
    "        return self.quantity*self.price\n",
    "\n",
    "class PersonalCareProduct(Product):\n",
    "    def __init__(self,id,name,price,quantity,warranty_period):\n",
    "        super().__init__(id,name,price,quantity)\n",
    "        self.warranty_period = warranty_period\n",
    "    def cal_total_price(self):\n",
    "        return (self.quantity * self.price) + (10 * self.warranty_period)\n",
    "        "
   ]
  },
  {
   "cell_type": "code",
   "execution_count": 11,
   "id": "b6fb596c-249e-43bc-b2cb-01e47dfaea68",
   "metadata": {},
   "outputs": [
    {
     "data": {
      "text/plain": [
       "2420"
      ]
     },
     "execution_count": 11,
     "metadata": {},
     "output_type": "execute_result"
    }
   ],
   "source": [
    "pc_product = PersonalCareProduct(101, \"Hair Dryer\", 1200, 2, 2)\n",
    "pc_product.cal_total_price()"
   ]
  },
  {
   "cell_type": "markdown",
   "id": "ba44d90a-57ab-4ce1-8956-00e07b17f5df",
   "metadata": {},
   "source": [
    "11. Write a Python program that creates a class called BankAccount with\n",
    "properties for account number, account holder name, and balance. Include\n",
    "methods to deposit, withdraw, and transfer money between accounts. Create\n",
    "multiple instances of the BankAccount class and perform operations such as\n",
    "depositing, withdrawing, and transferring money."
   ]
  },
  {
   "cell_type": "code",
   "execution_count": 60,
   "id": "60eb05e8-1523-41b1-b9a9-bc6b886a4a83",
   "metadata": {},
   "outputs": [],
   "source": [
    "class BankAccount():\n",
    "    def __init__(self,account_number,ac_holder_name,balance):\n",
    "        self.account_number = account_number\n",
    "        self.ac_holder_name = ac_holder_name\n",
    "        self.balance = balance\n",
    "    def deposit(self,amount):\n",
    "        self.balance += amount\n",
    "        print(f\"Deposited {amount}. New balance: {self.balance}\")\n",
    "    def withdraw(self, amount):\n",
    "        if self.balance >= amount:\n",
    "            self.balance -= amount\n",
    "            print(f\"Withdrew {amount}. Remaining balance: {self.balance}\")\n",
    "        else:\n",
    "            print(\"Insufficient balance.\")\n",
    "    def transfer_money(self,amount,target_account):\n",
    "         if self.balance >= amount:\n",
    "             self.balance -= amount\n",
    "             target_account.balance += amount\n",
    "             print(f\"Transferred {amount} to account {target_account.account_number}.\")\n",
    "             print(f\"Remaining balance: {self.balance}\")\n",
    "         else:\n",
    "             print(\"Insufficient balance.\")\n",
    "        "
   ]
  },
  {
   "cell_type": "code",
   "execution_count": 62,
   "id": "7126edb6-f304-4a9b-9712-8d1d129049bf",
   "metadata": {},
   "outputs": [],
   "source": [
    "account1 = BankAccount(\"123\", \"Alice\", 1000)\n",
    "account2 = BankAccount(\"456\", \"Bob\", 500)"
   ]
  },
  {
   "cell_type": "code",
   "execution_count": 64,
   "id": "6fe7fe80-0392-401a-844e-e90aa8b57c6c",
   "metadata": {},
   "outputs": [
    {
     "name": "stdout",
     "output_type": "stream",
     "text": [
      "Deposited 500. New balance: 1500\n",
      "Withdrew 200. Remaining balance: 1300\n",
      "Transferred 300 to account 456.\n",
      "Remaining balance: 1000\n"
     ]
    }
   ],
   "source": [
    "account1.deposit(500)\n",
    "account1.withdraw(200)\n",
    "account1.transfer_money(300, account2)"
   ]
  },
  {
   "cell_type": "code",
   "execution_count": 66,
   "id": "72a6b20c-c7b5-435b-802c-51b1e39c1057",
   "metadata": {},
   "outputs": [
    {
     "name": "stdout",
     "output_type": "stream",
     "text": [
      "Alice's balance: 1000\n",
      "Bob's balance: 800\n"
     ]
    }
   ],
   "source": [
    "print(f\"Alice's balance: {account1.balance}\")\n",
    "print(f\"Bob's balance: {account2.balance}\")"
   ]
  },
  {
   "cell_type": "markdown",
   "id": "647705a6-5cb7-4e7e-860f-b5efad80b62d",
   "metadata": {},
   "source": [
    "Write a Python program that creates a class called University with properties\n",
    "for university name and departments. Include methods to add a department,\n",
    "remove a department, and display all departments. Create an instance of the\n",
    "University class and add and remove departments"
   ]
  },
  {
   "cell_type": "code",
   "execution_count": 125,
   "id": "ad1a1ffb-fac8-4fde-8d09-538d98d30926",
   "metadata": {},
   "outputs": [],
   "source": [
    "class University():\n",
    "    def __init__(self,name,department):\n",
    "        self.name = name\n",
    "        self.departments = [department]\n",
    "    def add_departmnt(self,department):\n",
    "        self.departments.append(department)\n",
    "        print(f\"department {department} is added.\")\n",
    "    def remove_department(self,department):\n",
    "        if department in self.departments:\n",
    "            self.departments.remove(department)\n",
    "            print(f\"Branch '{department}' removed.\")\n",
    "        else:\n",
    "            print(f\"Branch '{department}' not found.\")\n",
    "    def display_departements(self):\n",
    "        print(f\"\\nBranches of {self.departments}:\")\n",
    "        for department in self.departments:\n",
    "            print(f\"- {department}\")\n",
    "  "
   ]
  },
  {
   "cell_type": "code",
   "execution_count": 127,
   "id": "dde091f8-dd2f-4958-afe6-f6219e3d7268",
   "metadata": {},
   "outputs": [
    {
     "name": "stdout",
     "output_type": "stream",
     "text": [
      "department computer scinece is added.\n"
     ]
    }
   ],
   "source": [
    "uni = University(\"Duet\",\"Electronics\")\n",
    "uni.add_departmnt(\"computer scinece\")"
   ]
  },
  {
   "cell_type": "code",
   "execution_count": 129,
   "id": "211e9253-0035-4948-95a6-a162f2f5ed04",
   "metadata": {},
   "outputs": [
    {
     "name": "stdout",
     "output_type": "stream",
     "text": [
      "\n",
      "Branches of ['Electronics', 'computer scinece']:\n",
      "- Electronics\n",
      "- computer scinece\n"
     ]
    }
   ],
   "source": [
    "uni.display_departements()"
   ]
  },
  {
   "cell_type": "code",
   "execution_count": 131,
   "id": "d2577250-2789-4f29-ab2c-5f903063c952",
   "metadata": {},
   "outputs": [
    {
     "name": "stdout",
     "output_type": "stream",
     "text": [
      "Branch 'Electronics' removed.\n"
     ]
    }
   ],
   "source": [
    "uni.remove_department(\"Electronics\")"
   ]
  },
  {
   "cell_type": "code",
   "execution_count": null,
   "id": "6aef6bb3-e4bb-4950-bd2d-5f2024bd5987",
   "metadata": {},
   "outputs": [],
   "source": []
  }
 ],
 "metadata": {
  "kernelspec": {
   "display_name": "Python 3 (ipykernel)",
   "language": "python",
   "name": "python3"
  },
  "language_info": {
   "codemirror_mode": {
    "name": "ipython",
    "version": 3
   },
   "file_extension": ".py",
   "mimetype": "text/x-python",
   "name": "python",
   "nbconvert_exporter": "python",
   "pygments_lexer": "ipython3",
   "version": "3.12.7"
  }
 },
 "nbformat": 4,
 "nbformat_minor": 5
}

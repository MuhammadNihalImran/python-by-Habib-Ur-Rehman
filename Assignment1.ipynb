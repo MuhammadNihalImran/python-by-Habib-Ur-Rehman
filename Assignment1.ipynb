{
 "cells": [
  {
   "cell_type": "markdown",
   "id": "1e5c6ed5-b235-475a-816d-2e2ab52e9323",
   "metadata": {},
   "source": [
    "1. Personal Message: Store a person’s name in a variable, and print a message to that person. Your message should be simple, such as, “Hello Eric,\n",
    "would you like to learn some Python today?”"
   ]
  },
  {
   "cell_type": "code",
   "execution_count": 1,
   "id": "c0fe6651-a0b5-4965-89eb-c62cd448e4b6",
   "metadata": {},
   "outputs": [
    {
     "name": "stdout",
     "output_type": "stream",
     "text": [
      "Hello Huzifa, would you like to learn some python today?\n"
     ]
    }
   ],
   "source": [
    "#type here code \n",
    "personName = \"Huzifa\"\n",
    "print(f\"Hello {personName}, would you like to learn some python today?\")"
   ]
  },
  {
   "cell_type": "markdown",
   "id": "434d5368-e2cb-4a38-889a-14b5eb9dcdf5",
   "metadata": {},
   "source": [
    "2. Name Cases: Store a person’s name in a variable, and then print that person’s name in lowercase, uppercase, and titlecase."
   ]
  },
  {
   "cell_type": "code",
   "execution_count": 4,
   "id": "91b4614c-fe32-4125-939a-3c5682f70e69",
   "metadata": {},
   "outputs": [
    {
     "name": "stdout",
     "output_type": "stream",
     "text": [
      "HUZIFA\n",
      "huzifa\n",
      "Huzifa\n"
     ]
    }
   ],
   "source": [
    "#tpye here code\n",
    "print(personName.upper())\n",
    "print(personName.lower())\n",
    "print(personName.title())"
   ]
  },
  {
   "cell_type": "markdown",
   "id": "6bbf8460-bf12-4f29-94c0-409c122dd2a6",
   "metadata": {},
   "source": [
    "3. Famous Quote: Find a quote from a famous person you admire. Print the\n",
    "quote and the name of its author. Your output should look something like the\n",
    "following, including the quotation marks:\n",
    "Albert Einstein once said, “A person who never made a\n",
    "mistake never tried anything new.”"
   ]
  },
  {
   "cell_type": "code",
   "execution_count": 6,
   "id": "9f8d4b89-e582-4e09-88ad-d2efd705a758",
   "metadata": {},
   "outputs": [
    {
     "name": "stdout",
     "output_type": "stream",
     "text": [
      "Albert Einstein once said,\n",
      "“A person who never made a mistake never tried anything new.”\n",
      "\n"
     ]
    }
   ],
   "source": [
    "#type here code \n",
    "print('''Albert Einstein once said,\n",
    "“A person who never made a mistake never tried anything new.”\n",
    "''')\n"
   ]
  },
  {
   "cell_type": "markdown",
   "id": "9d3bf496-269f-49bd-800d-0f3c9961be5c",
   "metadata": {},
   "source": [
    "4. Famous Quote 2: Repeat Exercise 2-5, but this time store the famous person’s name in a variable called famous_person. Then compose your message\n",
    "and store it in a new variable called message. Print your message."
   ]
  },
  {
   "cell_type": "code",
   "execution_count": 16,
   "id": "dcf2f5b9-b7ce-4cea-b70f-e268db34d678",
   "metadata": {},
   "outputs": [
    {
     "name": "stdout",
     "output_type": "stream",
     "text": [
      "Albert Einstein once said, “A person who never made a mistake never tried anything new.” \n"
     ]
    }
   ],
   "source": [
    "#type here code\n",
    "famous_person  =  \"Albert Einstein\"\n",
    "message = f\"{famous_person} once said, “A person who never made a mistake never tried anything new.” \"\n",
    "print(message)"
   ]
  },
  {
   "cell_type": "markdown",
   "id": "4c59d9da-1165-416b-8ab9-15b8c086c2d2",
   "metadata": {},
   "source": [
    "5. Stripping Names: Store a person’s name, and include some whitespace\n",
    "characters at the beginning and end of the name. Make sure you use each\n",
    "character combination, \"\\t\" and \"\\n\", at least once.\n",
    "Print the name once, so the whitespace around the name is displayed.\n",
    "Then print the name using each of the three stripping functions, lstrip(),\n",
    "rstrip(), and strip()."
   ]
  },
  {
   "cell_type": "code",
   "execution_count": 32,
   "id": "a902f40e-1a94-4110-b558-6d84794e2ab2",
   "metadata": {},
   "outputs": [
    {
     "name": "stdout",
     "output_type": "stream",
     "text": [
      "\t\tImran\tUsman\t\t\n",
      "Imran\tUsman\t\t\n",
      "\t\tImran\tUsman\n",
      "Imran\tUsman\n"
     ]
    }
   ],
   "source": [
    "#type here code \n",
    "\n",
    "person_Name = \"\\t\\tImran\\tUsman\\t\\t\"\n",
    "print(person_Name)\n",
    "print(person_Name.lstrip())\n",
    "print(person_Name.rstrip())\n",
    "print(person_Name.strip())\n"
   ]
  }
 ],
 "metadata": {
  "kernelspec": {
   "display_name": "Python 3 (ipykernel)",
   "language": "python",
   "name": "python3"
  },
  "language_info": {
   "codemirror_mode": {
    "name": "ipython",
    "version": 3
   },
   "file_extension": ".py",
   "mimetype": "text/x-python",
   "name": "python",
   "nbconvert_exporter": "python",
   "pygments_lexer": "ipython3",
   "version": "3.12.7"
  }
 },
 "nbformat": 4,
 "nbformat_minor": 5
}
